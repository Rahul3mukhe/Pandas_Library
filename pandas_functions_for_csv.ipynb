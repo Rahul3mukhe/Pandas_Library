{
  "nbformat": 4,
  "nbformat_minor": 0,
  "metadata": {
    "colab": {
      "provenance": []
    },
    "kernelspec": {
      "name": "python3",
      "display_name": "Python 3"
    },
    "language_info": {
      "name": "python"
    }
  },
  "cells": [
    {
      "cell_type": "code",
      "execution_count": null,
      "metadata": {
        "id": "UQDtEjb9XyHz"
      },
      "outputs": [],
      "source": [
        "import pandas as pd\n",
        "#csv_2 = pd.read_csv(\"C:\\\\Users\\\\rahul\\\\OneDrive\\\\Desktop\\\\codind practice\\\\industry.csv\")\n",
        "#print(csv_2)\n",
        "\n",
        "#csv_2.index ==gives the details of index that it has 10 rows which starts from 0\n",
        "\n",
        "#csv_2.columns which gives the names of columns\n",
        "\n",
        "#csv_2.describe   == which gives the mean,count,std,min,max values\n",
        "\n",
        "#csv_2.head()   == gives the data of first five rows\n",
        "\n",
        "#csv_2.tail()   == gives the data of last five rows\n",
        "\n",
        "#csv_2[7:20] === gives a particualr data\n",
        "\n",
        "#print(type(csv_1)) == prints the type of csv\n",
        "\n",
        "#csv_1.index.array == prints the index number into an array\n",
        "\n",
        "#csv_1.loc[index no,\"colomn name\"] = \"new colomn name\" == used to chnage the colomn name of specified row\n",
        "\n",
        "#csv_1.loc[[from index no , to index no],[\"colomn names we need \"]] == we get the specifed data\n",
        "\n",
        "#csv_1.drop(\"column name\",axis = 1) == dlts whole column\n",
        "\n",
        "#csv_1.drop(0,axis = 0) == dlts the row\n",
        "\n"
      ]
    }
  ]
}