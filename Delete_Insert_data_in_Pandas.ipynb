{
  "nbformat": 4,
  "nbformat_minor": 0,
  "metadata": {
    "colab": {
      "provenance": []
    },
    "kernelspec": {
      "name": "python3",
      "display_name": "Python 3"
    },
    "language_info": {
      "name": "python"
    }
  },
  "cells": [
    {
      "cell_type": "markdown",
      "source": [
        "# Insert"
      ],
      "metadata": {
        "id": "vLjVdgOCDjZn"
      }
    },
    {
      "cell_type": "code",
      "execution_count": 1,
      "metadata": {
        "colab": {
          "base_uri": "https://localhost:8080/"
        },
        "id": "duDqStBDBILV",
        "outputId": "b9b9c54b-7ed3-401e-9408-bb9100886a21"
      },
      "outputs": [
        {
          "output_type": "stream",
          "name": "stdout",
          "text": [
            "   a  b\n",
            "0  1  9\n",
            "1  2  8\n",
            "2  3  7\n",
            "3  4  6\n",
            "4  5  5\n"
          ]
        }
      ],
      "source": [
        "import pandas as pd\n",
        "var = pd.DataFrame({\"a\":[1,2,3,4,5],\"b\":[9,8,7,6,5]})\n",
        "print(var)"
      ]
    },
    {
      "cell_type": "code",
      "source": [
        "var.insert(1,\"pyhton\",var[\"a\"])\n",
        "print(var)"
      ],
      "metadata": {
        "colab": {
          "base_uri": "https://localhost:8080/"
        },
        "id": "k8IHTi14CbEz",
        "outputId": "264e6118-63ea-4dff-d7fb-5e2f11c753f8"
      },
      "execution_count": 2,
      "outputs": [
        {
          "output_type": "stream",
          "name": "stdout",
          "text": [
            "   a  pyhton  b\n",
            "0  1       1  9\n",
            "1  2       2  8\n",
            "2  3       3  7\n",
            "3  4       4  6\n",
            "4  5       5  5\n"
          ]
        }
      ]
    },
    {
      "cell_type": "code",
      "source": [
        "var.insert(1,\"pyhton_1\",[5,7,8,4,2])\n",
        "print(var)"
      ],
      "metadata": {
        "colab": {
          "base_uri": "https://localhost:8080/"
        },
        "id": "FIXxa2MTCwYo",
        "outputId": "666848c0-06f8-4663-e9b0-898af4628472"
      },
      "execution_count": 3,
      "outputs": [
        {
          "output_type": "stream",
          "name": "stdout",
          "text": [
            "   a  pyhton_1  pyhton  b\n",
            "0  1         5       1  9\n",
            "1  2         7       2  8\n",
            "2  3         8       3  7\n",
            "3  4         4       4  6\n",
            "4  5         2       5  5\n"
          ]
        }
      ]
    },
    {
      "cell_type": "code",
      "source": [
        "var = pd.DataFrame({\"a\":[1,2,3,4,5],\"b\":[9,8,7,6,5]})\n",
        "var[\"pyp\"] = var[\"a\"][:3]\n",
        "print(var)"
      ],
      "metadata": {
        "colab": {
          "base_uri": "https://localhost:8080/"
        },
        "id": "nyPJqdoLC5v0",
        "outputId": "1c71d010-38c3-4ae7-e492-e0288590e5aa"
      },
      "execution_count": 4,
      "outputs": [
        {
          "output_type": "stream",
          "name": "stdout",
          "text": [
            "   a  b  pyp\n",
            "0  1  9  1.0\n",
            "1  2  8  2.0\n",
            "2  3  7  3.0\n",
            "3  4  6  NaN\n",
            "4  5  5  NaN\n"
          ]
        }
      ]
    },
    {
      "cell_type": "markdown",
      "source": [
        "# Delete"
      ],
      "metadata": {
        "id": "uL1pPZCsDnKS"
      }
    },
    {
      "cell_type": "code",
      "source": [
        "var = pd.DataFrame({\"a\":[1,2,3,4,5],\"b\":[9,8,7,6,5]})\n",
        "print(var)\n",
        "var1 = var.pop(\"a\")\n",
        "print(var)\n",
        "print(var1)"
      ],
      "metadata": {
        "colab": {
          "base_uri": "https://localhost:8080/"
        },
        "id": "kWeKVRN1DYHz",
        "outputId": "cfc87c0b-babe-42f5-c167-98ef94513470"
      },
      "execution_count": 6,
      "outputs": [
        {
          "output_type": "stream",
          "name": "stdout",
          "text": [
            "   a  b\n",
            "0  1  9\n",
            "1  2  8\n",
            "2  3  7\n",
            "3  4  6\n",
            "4  5  5\n",
            "   b\n",
            "0  9\n",
            "1  8\n",
            "2  7\n",
            "3  6\n",
            "4  5\n",
            "0    1\n",
            "1    2\n",
            "2    3\n",
            "3    4\n",
            "4    5\n",
            "Name: a, dtype: int64\n"
          ]
        }
      ]
    },
    {
      "cell_type": "code",
      "source": [
        "del var[\"b\"]\n",
        "print(var)"
      ],
      "metadata": {
        "colab": {
          "base_uri": "https://localhost:8080/"
        },
        "id": "zB5_1OcDD5sx",
        "outputId": "152fc7d3-6d1a-489c-8a51-c719db4b5801"
      },
      "execution_count": 7,
      "outputs": [
        {
          "output_type": "stream",
          "name": "stdout",
          "text": [
            "Empty DataFrame\n",
            "Columns: []\n",
            "Index: [0, 1, 2, 3, 4]\n"
          ]
        }
      ]
    },
    {
      "cell_type": "code",
      "source": [],
      "metadata": {
        "id": "IbJ48HOcEIXf"
      },
      "execution_count": null,
      "outputs": []
    }
  ]
}