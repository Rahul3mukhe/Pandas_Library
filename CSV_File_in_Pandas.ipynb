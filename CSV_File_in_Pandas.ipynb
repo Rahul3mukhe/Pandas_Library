{
  "nbformat": 4,
  "nbformat_minor": 0,
  "metadata": {
    "colab": {
      "provenance": []
    },
    "kernelspec": {
      "name": "python3",
      "display_name": "Python 3"
    },
    "language_info": {
      "name": "python"
    }
  },
  "cells": [
    {
      "cell_type": "code",
      "source": [
        "import pandas as pd\n",
        "dis = {\"a\":[1,2,3,4,5,6],\"s\":[9,8,7,6,5,4],\"c\":[2,5,6,8,9,5]}\n",
        "\n",
        "d = pd.DataFrame(dis)\n",
        "print(d)\n",
        "print()\n",
        "d.to_csv(\"test_new.csv\")"
      ],
      "metadata": {
        "colab": {
          "base_uri": "https://localhost:8080/"
        },
        "id": "C-JVIrimGWib",
        "outputId": "555910e9-4f39-43f1-e787-f615fb970dde"
      },
      "execution_count": 5,
      "outputs": [
        {
          "output_type": "stream",
          "name": "stdout",
          "text": [
            "   a  s  c\n",
            "0  1  9  2\n",
            "1  2  8  5\n",
            "2  3  7  6\n",
            "3  4  6  8\n",
            "4  5  5  9\n",
            "5  6  4  5\n",
            "\n"
          ]
        }
      ]
    },
    {
      "cell_type": "code",
      "execution_count": 4,
      "metadata": {
        "colab": {
          "base_uri": "https://localhost:8080/"
        },
        "id": "PUvK_iu9EUDx",
        "outputId": "96713735-98c6-4303-8922-6b886b49fedd"
      },
      "outputs": [
        {
          "output_type": "stream",
          "name": "stdout",
          "text": [
            "   a  s  c\n",
            "0  1  9  2\n",
            "1  2  8  5\n",
            "2  3  7  6\n",
            "3  4  6  8\n",
            "4  5  5  9\n",
            "5  6  4  5\n",
            "\n"
          ]
        }
      ],
      "source": [
        "import pandas as pd\n",
        "dis = {\"a\":[1,2,3,4,5,6],\"s\":[9,8,7,6,5,4],\"c\":[2,5,6,8,9,5]}\n",
        "\n",
        "d = pd.DataFrame(dis)\n",
        "print(d)\n",
        "print()\n",
        "d.to_csv(\"test_new.csv\")\n",
        "d.to_csv(\"test_new1.csv\",index = False,header = [1,2,3])"
      ]
    }
  ]
}