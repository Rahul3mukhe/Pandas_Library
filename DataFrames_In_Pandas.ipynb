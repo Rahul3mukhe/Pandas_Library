{
  "nbformat": 4,
  "nbformat_minor": 0,
  "metadata": {
    "colab": {
      "provenance": []
    },
    "kernelspec": {
      "name": "python3",
      "display_name": "Python 3"
    },
    "language_info": {
      "name": "python"
    }
  },
  "cells": [
    {
      "cell_type": "markdown",
      "source": [
        "DATAFRAME"
      ],
      "metadata": {
        "id": "IKPK2NJT7MsZ"
      }
    },
    {
      "cell_type": "code",
      "execution_count": 2,
      "metadata": {
        "colab": {
          "base_uri": "https://localhost:8080/"
        },
        "id": "WhV6vmCj7JQU",
        "outputId": "1f59d931-e863-4125-f1c4-54086c429be1"
      },
      "outputs": [
        {
          "output_type": "stream",
          "name": "stdout",
          "text": [
            "<class 'pandas.core.frame.DataFrame'>\n",
            "   0\n",
            "0  1\n",
            "1  2\n",
            "2  3\n",
            "3  4\n",
            "4  5\n",
            "5  6\n"
          ]
        }
      ],
      "source": [
        "import pandas as pd\n",
        "l = [1,2,3,4,5,6]\n",
        "var = pd.DataFrame(l)\n",
        "print(type(var))\n",
        "print(var)"
      ]
    },
    {
      "cell_type": "code",
      "source": [
        "d = {\"a\":[1,2,3,4,5,6],\"s\":[1,2,3,4,5,6]}\n",
        "var1 = pd.DataFrame(d,columns = ['a'])\n",
        "print(var1)\n",
        "print(type(var1))"
      ],
      "metadata": {
        "colab": {
          "base_uri": "https://localhost:8080/"
        },
        "id": "dpRxEvqb7rcQ",
        "outputId": "4057750c-32e7-46e7-f29b-a14abf4af148"
      },
      "execution_count": 8,
      "outputs": [
        {
          "output_type": "stream",
          "name": "stdout",
          "text": [
            "   a\n",
            "0  1\n",
            "1  2\n",
            "2  3\n",
            "3  4\n",
            "4  5\n",
            "5  6\n",
            "<class 'pandas.core.frame.DataFrame'>\n"
          ]
        }
      ]
    },
    {
      "cell_type": "code",
      "source": [
        "d = {\"a\":[1,2,3,4,5,6],\"s\":[1,2,3,4,5,6]}\n",
        "var1 = pd.DataFrame(d, index = [\"a\",\"s\",\"w\",\"q\",\"u\",\"v\"])\n",
        "print(var1)\n",
        "print(type(var1))"
      ],
      "metadata": {
        "colab": {
          "base_uri": "https://localhost:8080/"
        },
        "id": "72yvWVQg8LAS",
        "outputId": "32f41e24-d048-4285-b2ae-21d92b5be19c"
      },
      "execution_count": 11,
      "outputs": [
        {
          "output_type": "stream",
          "name": "stdout",
          "text": [
            "   a  s\n",
            "a  1  1\n",
            "s  2  2\n",
            "w  3  3\n",
            "q  4  4\n",
            "u  5  5\n",
            "v  6  6\n",
            "<class 'pandas.core.frame.DataFrame'>\n"
          ]
        }
      ]
    },
    {
      "cell_type": "code",
      "source": [
        "d = {\"a\":[1,2,3,4,5,6],\"s\":[1,2,3,4,5,6],\"w\":[1,2,3,4,5,6],\"q\":[1,2,3,4,5,6],\"u\":[1,2,3,4,5,6],\"v\":[1,2,3,4,5,6]}\n",
        "var1 = pd.DataFrame(d)\n",
        "print(var1)\n",
        "print(type(var1))\n",
        "print(var1[\"a\"][3])\n"
      ],
      "metadata": {
        "colab": {
          "base_uri": "https://localhost:8080/"
        },
        "id": "4YLWNYch80f1",
        "outputId": "11cf4d63-b69b-4d88-c52f-707c62841b5c"
      },
      "execution_count": 14,
      "outputs": [
        {
          "output_type": "stream",
          "name": "stdout",
          "text": [
            "   a  s  w  q  u  v\n",
            "0  1  1  1  1  1  1\n",
            "1  2  2  2  2  2  2\n",
            "2  3  3  3  3  3  3\n",
            "3  4  4  4  4  4  4\n",
            "4  5  5  5  5  5  5\n",
            "5  6  6  6  6  6  6\n",
            "<class 'pandas.core.frame.DataFrame'>\n",
            "4\n"
          ]
        }
      ]
    },
    {
      "cell_type": "code",
      "source": [
        "list_1 = [[1,2,3,4,5,6],[4,6,5,3,45,7,5]]\n",
        "var2 = pd.DataFrame(list_1)\n",
        "print(var2)\n",
        "print(type(var2))"
      ],
      "metadata": {
        "colab": {
          "base_uri": "https://localhost:8080/"
        },
        "id": "aL3PQd3Z9g1q",
        "outputId": "93233931-0f40-485f-dee7-ba72adad19e2"
      },
      "execution_count": 17,
      "outputs": [
        {
          "output_type": "stream",
          "name": "stdout",
          "text": [
            "   0  1  2  3   4  5    6\n",
            "0  1  2  3  4   5  6  NaN\n",
            "1  4  6  5  3  45  7  5.0\n",
            "<class 'pandas.core.frame.DataFrame'>\n"
          ]
        }
      ]
    },
    {
      "cell_type": "code",
      "source": [
        "sr = {\"s\":pd.Series([1,2,3,4,5,6]),'r':pd.Series([6,5,4,3,2,1])}\n",
        "var3 = pd.DataFrame(sr)\n",
        "print(var3)\n",
        "print(type(var3))"
      ],
      "metadata": {
        "colab": {
          "base_uri": "https://localhost:8080/"
        },
        "id": "X7gEswZ39_WB",
        "outputId": "07d0351f-eae2-4792-c942-544afaf73968"
      },
      "execution_count": 18,
      "outputs": [
        {
          "output_type": "stream",
          "name": "stdout",
          "text": [
            "   s  r\n",
            "0  1  6\n",
            "1  2  5\n",
            "2  3  4\n",
            "3  4  3\n",
            "4  5  2\n",
            "5  6  1\n",
            "<class 'pandas.core.frame.DataFrame'>\n"
          ]
        }
      ]
    },
    {
      "cell_type": "code",
      "source": [],
      "metadata": {
        "id": "5Xko4dA1-w5Q"
      },
      "execution_count": null,
      "outputs": []
    }
  ]
}