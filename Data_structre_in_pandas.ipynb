{
  "nbformat": 4,
  "nbformat_minor": 0,
  "metadata": {
    "colab": {
      "provenance": []
    },
    "kernelspec": {
      "name": "python3",
      "display_name": "Python 3"
    },
    "language_info": {
      "name": "python"
    }
  },
  "cells": [
    {
      "cell_type": "markdown",
      "source": [
        "# Series"
      ],
      "metadata": {
        "id": "TLHqdgSZ3_MQ"
      }
    },
    {
      "cell_type": "code",
      "execution_count": 7,
      "metadata": {
        "id": "npRafyWClUtF",
        "colab": {
          "base_uri": "https://localhost:8080/"
        },
        "outputId": "c62b8b1f-ff4a-45fa-81fc-cb7fdc0477bd"
      },
      "outputs": [
        {
          "output_type": "stream",
          "name": "stdout",
          "text": [
            "a    3.0\n",
            "s    4.0\n",
            "x    5.0\n",
            "Name: python, dtype: float64\n",
            "<class 'pandas.core.series.Series'>\n"
          ]
        }
      ],
      "source": [
        "import pandas as pd\n",
        "X = [3,4,5]\n",
        "a = pd.Series(X,index=['a','s','x'],dtype = 'float',name = 'python')\n",
        "print(a)\n",
        "print(type(a))"
      ]
    },
    {
      "cell_type": "code",
      "source": [
        "dic ={\"name\" :['python','c','c++','java'],\"por\":[12,13,14,15],\"rank\":[1,4,3,2]}\n",
        "var1 = pd.Series(dic)\n",
        "print(var1)"
      ],
      "metadata": {
        "colab": {
          "base_uri": "https://localhost:8080/"
        },
        "id": "rvHbY5p23wc1",
        "outputId": "39e39644-d794-4857-c780-cfb51b58cd7d"
      },
      "execution_count": 8,
      "outputs": [
        {
          "output_type": "stream",
          "name": "stdout",
          "text": [
            "name    [python, c, c++, java]\n",
            "por           [12, 13, 14, 15]\n",
            "rank              [1, 4, 3, 2]\n",
            "dtype: object\n"
          ]
        }
      ]
    },
    {
      "cell_type": "code",
      "source": [
        "s= pd.Series(12,index=[1,2,3,4,5,6,7])\n",
        "print(s)\n",
        "print(type(s))"
      ],
      "metadata": {
        "colab": {
          "base_uri": "https://localhost:8080/"
        },
        "id": "XE9yz37C5wml",
        "outputId": "e86c37c9-4837-40f3-e6eb-abf456e2e706"
      },
      "execution_count": 9,
      "outputs": [
        {
          "output_type": "stream",
          "name": "stdout",
          "text": [
            "1    12\n",
            "2    12\n",
            "3    12\n",
            "4    12\n",
            "5    12\n",
            "6    12\n",
            "7    12\n",
            "dtype: int64\n",
            "<class 'pandas.core.series.Series'>\n"
          ]
        }
      ]
    },
    {
      "cell_type": "code",
      "source": [
        "s1= pd.Series(12,index=[1,2,3,4,5,6,7])\n",
        "s2= pd.Series(12,index=[1,2,3,4])\n",
        "print(s1 + s2)"
      ],
      "metadata": {
        "colab": {
          "base_uri": "https://localhost:8080/"
        },
        "id": "g-U261za6VHk",
        "outputId": "2028e593-ce32-4c99-96f1-5eacca2d6cc6"
      },
      "execution_count": 10,
      "outputs": [
        {
          "output_type": "stream",
          "name": "stdout",
          "text": [
            "1    24.0\n",
            "2    24.0\n",
            "3    24.0\n",
            "4    24.0\n",
            "5     NaN\n",
            "6     NaN\n",
            "7     NaN\n",
            "dtype: float64\n"
          ]
        }
      ]
    },
    {
      "cell_type": "code",
      "source": [],
      "metadata": {
        "id": "FaS3bRQ16fgf"
      },
      "execution_count": null,
      "outputs": []
    }
  ]
}