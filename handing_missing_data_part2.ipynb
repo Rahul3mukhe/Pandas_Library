{
  "nbformat": 4,
  "nbformat_minor": 0,
  "metadata": {
    "colab": {
      "provenance": []
    },
    "kernelspec": {
      "name": "python3",
      "display_name": "Python 3"
    },
    "language_info": {
      "name": "python"
    }
  },
  "cells": [
    {
      "cell_type": "code",
      "execution_count": null,
      "metadata": {
        "id": "MU_mMHYbWNHh"
      },
      "outputs": [],
      "source": [
        "# import pandas as pd\n",
        "# var = pd.read_csv('https://raw.githubusercontent.com/selva86/datasets/master/Cars93_miss.csv')\n",
        "# var"
      ]
    },
    {
      "cell_type": "code",
      "source": [
        "var.replace(to_replace = 4 (value to be replaced),value = 22 (to be replaced by) )\n",
        "\n",
        "var.replace(to_replace = \"string\",value = \"new string\")\n",
        "\n",
        "var.replace( any value , method = \"ffill\") == replaced by the value from the previous row\n",
        "var.replace( any value , method = \"bfill\") == replaced by the value from the next row\n",
        "\n",
        "var.replace(any value, method = \"ffill\",limit = 2,inplace) == gives the original data\n",
        "\n",
        "\n",
        "\n"
      ],
      "metadata": {
        "id": "WuDPV1oNWhQF"
      },
      "execution_count": null,
      "outputs": []
    },
    {
      "cell_type": "markdown",
      "source": [
        "# **Interpolate**"
      ],
      "metadata": {
        "id": "2pUeP0VJY70b"
      }
    },
    {
      "cell_type": "code",
      "source": [
        "# var = pd.read_csv('https://raw.githubusercontent.com/selva86/datasets/master/Cars93_miss.csv')\n",
        "# var\n",
        "\n",
        "var.interpolate() automatically fills the data randomy but only works with digits\n",
        "\n",
        "var.interpolate(method = \"linear\") fills data linearly\n",
        "\n",
        "var.interpolate(limit_direction = \"forward\",limit =2) == fills the data from the forward method where limit is 2\n",
        "\n",
        "var.interpolate(limit_direction = \"backward\",limit =2) == fills the data from the backward method where limit is\n",
        "\n",
        "var.interpolate(limit_are = \"inside\") == removes the NaN values\n",
        "\n",
        "var.interpolate(limit_direction = \"backward\",limit =2,inplace = true)  == gives og data\n"
      ],
      "metadata": {
        "id": "VcLzQ1SyYofX"
      },
      "execution_count": null,
      "outputs": []
    }
  ]
}