{
  "nbformat": 4,
  "nbformat_minor": 0,
  "metadata": {
    "colab": {
      "provenance": []
    },
    "kernelspec": {
      "name": "python3",
      "display_name": "Python 3"
    },
    "language_info": {
      "name": "python"
    }
  },
  "cells": [
    {
      "cell_type": "markdown",
      "source": [
        "READ CSV"
      ],
      "metadata": {
        "id": "AFhXD36UQIDZ"
      }
    },
    {
      "cell_type": "code",
      "execution_count": 4,
      "metadata": {
        "id": "mqpR5AnCPe_3"
      },
      "outputs": [],
      "source": [
        "import pandas as pd\n",
        "#csv_1 = pd.read_csv(\"C:\\\\Users\\\\rahul\\\\OneDrive\\\\Desktop\\\\codind practice\\\\industry.csv\")\n",
        "#print(csv_1)"
      ]
    },
    {
      "cell_type": "code",
      "source": [
        "#for single row\n",
        "#csv_2 = pd.read_csv(\"C:\\\\Users\\\\rahul\\\\OneDrive\\\\Desktop\\\\codind practice\\\\industry.csv\",nrow = 1)\n",
        "#prints 1st row\n",
        "#for single column\n",
        "#csv_2 = pd.read_csv(\"C:\\\\Users\\\\rahul\\\\OneDrive\\\\Desktop\\\\codind practice\\\\industry.csv\",usecols = column name or [0,3])\n"
      ],
      "metadata": {
        "id": "ckUu_fIXQxGp"
      },
      "execution_count": null,
      "outputs": []
    },
    {
      "cell_type": "code",
      "source": [
        "#for skipping the row\n",
        "#csv_2 = pd.read_csv(\"C:\\\\Users\\\\rahul\\\\OneDrive\\\\Desktop\\\\codind practice\\\\industry.csv\",skiprows = [0,3])\n",
        "\n",
        "#for index call\n",
        "#csv_2 = pd.read_csv(\"C:\\\\Users\\\\rahul\\\\OneDrive\\\\Desktop\\\\codind practice\\\\industry.csv\",index_col = name of next column)\n",
        "\n",
        "#for changing header\n",
        "#csv_2 = pd.read_csv(\"C:\\\\Users\\\\rahul\\\\OneDrive\\\\Desktop\\\\codind practice\\\\industry.csv\",header = 2 == which means 2nd row will be heading)\n",
        "\n",
        "#for changing header name\n",
        "#csv_2 = pd.read_csv(\"C:\\\\Users\\\\rahul\\\\OneDrive\\\\Desktop\\\\codind practice\\\\industry.csv\",names = [\"col1\",\"col2\",\"col3\",\"col4\"])\n",
        "\n",
        "#if we dont want header\n",
        "##csv_2 = pd.read_csv(\"C:\\\\Users\\\\rahul\\\\OneDrive\\\\Desktop\\\\codind practice\\\\industry.csv\",header = None)\n",
        "\n"
      ],
      "metadata": {
        "id": "l9stBTIuTumg"
      },
      "execution_count": null,
      "outputs": []
    },
    {
      "cell_type": "code",
      "source": [
        "#if we want to change the data type in the csv data from integer to float\n",
        "#csv_2 = pd.read_csv(\"C:\\\\Users\\\\rahul\\\\OneDrive\\\\Desktop\\\\codind practice\\\\industry.csv\",dtype = {\"colomn name\":\"float\"})\n"
      ],
      "metadata": {
        "id": "lQkiUbZOVggT"
      },
      "execution_count": null,
      "outputs": []
    }
  ]
}